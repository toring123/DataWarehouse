{
 "cells": [
  {
   "cell_type": "code",
   "execution_count": null,
   "metadata": {
    "vscode": {
     "languageId": "plaintext"
    }
   },
   "outputs": [],
   "source": [
    "# @title Filter items with estimated sales greater than **XX** from **Month A** to **Month B** and grouped by topic.\n",
    "# Load the new CSV file\n",
    "new_file_path = f'data-94-topics.csv'\n",
    "new_data = pd.read_csv(new_file_path)\n",
    "\n",
    "XX = 30 #@param {type:\"integer\"}\n",
    "month_A = 10 # @param {type:\"integer\"}\n",
    "month_B = 12 # @param {type:\"integer\"}\n",
    "\n",
    "# Convert the original_creation column to datetime\n",
    "new_data['original_creation'] = pd.to_datetime(new_data['original_creation'])\n",
    "\n",
    "# Filter items with original creation date from July to December (inclusive)\n",
    "filtered_new_data = new_data[new_data['original_creation'].dt.month.isin([7, 8, 9, 10, 11, 12])]\n",
    "\n",
    "# Group by topic and sort the groups alphabetically\n",
    "grouped_new_data = filtered_new_data.groupby('topic')\n",
    "\n",
    "# Function to filter items with est_sales greater than 30 for each group\n",
    "def filter_sales_greater_than_xx(group):\n",
    "    return group[group['est_sales'] > XX]\n",
    "\n",
    "# Apply the function to each group\n",
    "filtered_sales_data = grouped_new_data.apply(filter_sales_greater_than_xx).reset_index(drop=True)\n",
    "\n",
    "filtered_sales_data.head()"
   ]
  }
 ],
 "metadata": {
  "language_info": {
   "name": "python"
  }
 },
 "nbformat": 4,
 "nbformat_minor": 2
}
